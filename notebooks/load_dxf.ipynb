{
 "cells": [
  {
   "cell_type": "code",
   "execution_count": 4,
   "metadata": {},
   "outputs": [],
   "source": [
    "import ezdxf\n",
    "\n",
    "doc = ezdxf.readfile(\"../data/centerline.dxf\")\n",
    "msp = doc.modelspace()"
   ]
  },
  {
   "cell_type": "code",
   "execution_count": 5,
   "metadata": {},
   "outputs": [
    {
     "name": "stdout",
     "output_type": "stream",
     "text": [
      "{<class 'ezdxf.entities.lwpolyline.LWPolyline'>: 1}\n"
     ]
    }
   ],
   "source": [
    "count = {}\n",
    "for e in msp:\n",
    "    count[type(e)] = count.get(type(e),0)+1\n",
    "print(count)\n",
    "\n",
    "# polyline is the outside"
   ]
  },
  {
   "cell_type": "code",
   "execution_count": 3,
   "metadata": {},
   "outputs": [],
   "source": [
    "from trajectory_generation.utils import lwpolyline2ring, lwpolyline2string\n",
    "import shapely.geometry as geom\n",
    "import ezdxf\n",
    "\n",
    "class Floorplan:\n",
    "    def __init__(self, floorplan_fpath, centerline_fpath):\n",
    "        floor = self._get_polyline_from_dxf(floorplan_fpath)\n",
    "        self.floor = geom.Polygon(shell=lwpolyline2ring(floor))\n",
    "\n",
    "        centerline = self._get_polyline_from_dxf(centerline_fpath)\n",
    "        self.centerline = lwpolyline2string(centerline)\n",
    "\n",
    "    def _get_polyline_from_dxf(self, fpath):\n",
    "        \"\"\"\n",
    "        load a single polyline from dxf, assumes there is at least one\n",
    "        \"\"\"\n",
    "        doc = ezdxf.readfile(fpath)\n",
    "        msp = list(doc.modelspace())\n",
    "        entity = msp[0]\n",
    "        return entity\n",
    "\n",
    "    def is_inside(self, x, y):\n",
    "        \"\"\"given x, y coords, check if they are inside the track (between inner and outer)\"\"\"\n",
    "        point = geom.Point(x, y)\n",
    "        return self.floor.contains(point)\n",
    "\n",
    "    def distance_to_centerline(self, x, y):\n",
    "        point = geom.Point(x, y)\n",
    "        return self.centerline.distance(point)\n",
    "\n",
    "\n",
    "floorplan = Floorplan(floorplan_fpath=\"../data/floorplan.dxf\", centerline_fpath=\"../data/centerline.dxf\")"
   ]
  }
 ],
 "metadata": {
  "kernelspec": {
   "display_name": ".venv",
   "language": "python",
   "name": "python3"
  },
  "language_info": {
   "codemirror_mode": {
    "name": "ipython",
    "version": 3
   },
   "file_extension": ".py",
   "mimetype": "text/x-python",
   "name": "python",
   "nbconvert_exporter": "python",
   "pygments_lexer": "ipython3",
   "version": "3.9.17"
  },
  "orig_nbformat": 4
 },
 "nbformat": 4,
 "nbformat_minor": 2
}
