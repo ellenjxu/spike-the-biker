{
 "cells": [
  {
   "cell_type": "code",
   "execution_count": 2,
   "metadata": {},
   "outputs": [
    {
     "name": "stderr",
     "output_type": "stream",
     "text": [
      "/home/ellen/.conda/envs/ml/lib/python3.11/site-packages/tqdm/auto.py:21: TqdmWarning: IProgress not found. Please update jupyter and ipywidgets. See https://ipywidgets.readthedocs.io/en/stable/user_install.html\n",
      "  from .autonotebook import tqdm as notebook_tqdm\n"
     ]
    }
   ],
   "source": [
    "import torch\n",
    "import torch.nn as nn\n",
    "from torch.utils.data import DataLoader, Dataset\n",
    "from torchvision import transforms\n",
    "from PIL import Image\n",
    "import timm\n",
    "import os"
   ]
  },
  {
   "cell_type": "code",
   "execution_count": 3,
   "metadata": {},
   "outputs": [],
   "source": [
    "BATCH_SIZE = 32\n",
    "EPOCHS = 10\n",
    "LEARNING_RATE = 0.001\n",
    "DATA_DIR = \"data/\""
   ]
  },
  {
   "cell_type": "code",
   "execution_count": 4,
   "metadata": {},
   "outputs": [],
   "source": [
    "class CustomDataset(Dataset):\n",
    "    def __init__(self, data_dir, transform=None):\n",
    "        self.data_dir = data_dir\n",
    "        self.transform = transform\n",
    "        self.labels = {}\n",
    "\n",
    "        # Read the labels.txt and create a mapping from image name to a list of labels\n",
    "        with open(os.path.join(data_dir, \"labels.txt\"), \"r\") as f:\n",
    "            for line in f:\n",
    "                image_name = line.strip().split(\",\")[0]\n",
    "                self.labels[image_name] = [list(map(float, line.strip().split(\",\")[1:]))]\n",
    "        #         image_name, relative_x, relative_y, action = line.strip().split(\",\")\n",
    "        #         if image_name not in self.labels:\n",
    "        #             self.labels[image_name] = []\n",
    "        #         self.labels[image_name].append([float(relative_x), float(relative_y), float(action)])\n",
    "        \n",
    "        self.images = list(self.labels.keys())\n",
    "\n",
    "    def __len__(self):\n",
    "        return len(self.images)\n",
    "\n",
    "    def __getitem__(self, idx):\n",
    "        img_name = self.images[idx]\n",
    "        image_path = os.path.join(self.data_dir, img_name)\n",
    "        image = Image.open(image_path).convert('RGB')\n",
    "        if self.transform:\n",
    "            image = self.transform(image)\n",
    "        label_matrix = torch.tensor(self.labels[img_name])  # This will be of size 10x3\n",
    "        return image, label_matrix"
   ]
  },
  {
   "cell_type": "code",
   "execution_count": 5,
   "metadata": {},
   "outputs": [],
   "source": [
    "# Transform\n",
    "transform = transforms.Compose(\n",
    "    [\n",
    "        transforms.Resize((224, 224)),  # Appropriate for EfficientNet-B0\n",
    "        transforms.ToTensor(),\n",
    "        transforms.Normalize(mean=[0.485, 0.456, 0.406], std=[0.229, 0.224, 0.225]),\n",
    "    ]\n",
    ")"
   ]
  },
  {
   "cell_type": "code",
   "execution_count": 6,
   "metadata": {},
   "outputs": [],
   "source": [
    "dataset = CustomDataset(data_dir=DATA_DIR, transform=transform)\n",
    "dataloader = DataLoader(dataset, batch_size=BATCH_SIZE, shuffle=True)"
   ]
  },
  {
   "cell_type": "code",
   "execution_count": 7,
   "metadata": {},
   "outputs": [
    {
     "data": {
      "text/plain": [
       "torch.Size([1, 40])"
      ]
     },
     "execution_count": 7,
     "metadata": {},
     "output_type": "execute_result"
    }
   ],
   "source": [
    "# dataset[0] will return a tuple of image and label matrix\n",
    "dataset[0][0] # image\n",
    "dataset[0][1].shape # label"
   ]
  },
  {
   "cell_type": "code",
   "execution_count": 8,
   "metadata": {},
   "outputs": [],
   "source": [
    "class EfficientNet(nn.Module):\n",
    "    def __init__(self, out_size: int = 40, out_scale: float = 1, freeze_base: bool = True):\n",
    "        super().__init__()\n",
    "        self.out_scale = out_scale\n",
    "        \n",
    "        # Load the pre-trained EfficientNet model (for this example, we'll use efficientnet_b0)\n",
    "        eff_net = timm.create_model('efficientnet_b0', pretrained=True)\n",
    "\n",
    "        if freeze_base:\n",
    "            for param in eff_net.parameters():\n",
    "                param.requires_grad = False\n",
    "\n",
    "        # replace the last fully connected layer\n",
    "        num_features = eff_net.classifier.in_features\n",
    "        eff_net.classifier = nn.Linear(num_features, out_size)\n",
    "        self.model = nn.Sequential(eff_net, nn.Tanh())\n",
    "\n",
    "    def forward(self, x):\n",
    "        x = self.model(x) * self.out_scale  # allows predicting up to out_scale meters away\n",
    "        # return x.view(-1, 10, 4)  # reshaping the output to [batch_size, 10, 3]\n",
    "        return x\n",
    "\n",
    "    def get_transforms(self):\n",
    "        return transforms.Compose(\n",
    "            [\n",
    "                transforms.ConvertImageDtype(torch.float),\n",
    "                transforms.Resize((224, 224), antialias=True),  # appropriate for efficientnet_b0\n",
    "                transforms.Normalize(\n",
    "                    mean=[0.485, 0.456, 0.406], std=[0.229, 0.224, 0.225]\n",
    "                ),  # imagenet norms\n",
    "            ]\n",
    "        )"
   ]
  },
  {
   "cell_type": "code",
   "execution_count": 9,
   "metadata": {},
   "outputs": [],
   "source": [
    "model = EfficientNet()  # x and y as outputs\n",
    "criterion = torch.nn.MSELoss()  # regression problem, so use Mean Squared Error\n",
    "optimizer = torch.optim.Adam(model.parameters(), lr=LEARNING_RATE)"
   ]
  },
  {
   "cell_type": "code",
   "execution_count": 10,
   "metadata": {},
   "outputs": [
    {
     "name": "stderr",
     "output_type": "stream",
     "text": [
      "/home/ellen/.conda/envs/ml/lib/python3.11/site-packages/torch/nn/modules/loss.py:536: UserWarning: Using a target size (torch.Size([6, 1, 40])) that is different to the input size (torch.Size([6, 40])). This will likely lead to incorrect results due to broadcasting. Please ensure they have the same size.\n",
      "  return F.mse_loss(input, target, reduction=self.reduction)\n"
     ]
    },
    {
     "name": "stdout",
     "output_type": "stream",
     "text": [
      "Epoch 1/10, Loss: 18.1916\n",
      "Epoch 2/10, Loss: 17.0890\n",
      "Epoch 3/10, Loss: 16.1286\n",
      "Epoch 4/10, Loss: 15.3496\n",
      "Epoch 5/10, Loss: 14.7549\n",
      "Epoch 6/10, Loss: 14.3199\n",
      "Epoch 7/10, Loss: 14.0093\n",
      "Epoch 8/10, Loss: 13.7896\n",
      "Epoch 9/10, Loss: 13.6344\n",
      "Epoch 10/10, Loss: 13.5245\n"
     ]
    }
   ],
   "source": [
    "for epoch in range(EPOCHS):\n",
    "    for images, labels in dataloader:\n",
    "        optimizer.zero_grad()\n",
    "        outputs = model(images)\n",
    "        loss = criterion(outputs, labels)\n",
    "        loss.backward()\n",
    "        optimizer.step()\n",
    "    print(f\"Epoch {epoch+1}/{EPOCHS}, Loss: {loss.item():.4f}\")"
   ]
  },
  {
   "cell_type": "markdown",
   "metadata": {},
   "source": [
    "visualize"
   ]
  },
  {
   "cell_type": "code",
   "execution_count": 11,
   "metadata": {},
   "outputs": [
    {
     "data": {
      "text/plain": [
       "tensor([[ 0.9585,  0.9554,  0.1230,  0.1981,  0.9451,  0.9549,  0.2526, -0.0923,\n",
       "          0.9668,  0.9543,  0.1483,  0.0787,  0.9513,  0.9588,  0.1256, -0.0179,\n",
       "          0.9659,  0.9363,  0.1338,  0.3259,  0.9575,  0.9555,  0.1438,  0.1734,\n",
       "          0.9655,  0.9608,  0.7731,  0.0458,  0.9669,  0.9583,  0.4288,  0.3780,\n",
       "          0.9609,  0.9579,  0.1944,  0.1321,  0.9639,  0.9540,  0.1725, -0.0571]],\n",
       "       grad_fn=<MulBackward0>)"
      ]
     },
     "execution_count": 11,
     "metadata": {},
     "output_type": "execute_result"
    }
   ],
   "source": [
    "out = model(dataset[0][0].unsqueeze(0))\n",
    "# out.shape\n",
    "out"
   ]
  },
  {
   "cell_type": "code",
   "execution_count": 51,
   "metadata": {},
   "outputs": [
    {
     "name": "stdout",
     "output_type": "stream",
     "text": [
      "================ Diagnostic Run torch.onnx.export version 2.0.1 ================\n",
      "verbose: False, log level: Level.ERROR\n",
      "======================= 0 NONE 0 NOTE 0 WARNING 0 ERROR ========================\n",
      "\n"
     ]
    }
   ],
   "source": [
    "# torch.save(model.state_dict(), \"efficientnet_model.pth\")\n",
    "import torch.onnx\n",
    "dummy_input = torch.randn(1, 3, 224, 224)\n",
    "torch.onnx.export(model, dummy_input, \"efficientnet.onnx\")"
   ]
  }
 ],
 "metadata": {
  "kernelspec": {
   "display_name": "your_env_name",
   "language": "python",
   "name": "your_env_name"
  },
  "language_info": {
   "codemirror_mode": {
    "name": "ipython",
    "version": 3
   },
   "file_extension": ".py",
   "mimetype": "text/x-python",
   "name": "python",
   "nbconvert_exporter": "python",
   "pygments_lexer": "ipython3",
   "version": "3.11.4"
  },
  "orig_nbformat": 4
 },
 "nbformat": 4,
 "nbformat_minor": 2
}
