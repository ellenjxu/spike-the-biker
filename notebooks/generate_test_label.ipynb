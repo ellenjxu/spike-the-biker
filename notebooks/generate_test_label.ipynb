{
 "cells": [
  {
   "cell_type": "markdown",
   "metadata": {},
   "source": [
    "generates label.txt given data directory with .jpg image frames.\n",
    "\n",
    "Each image has a label which is a 10x4 tensor flattened to 1x40 (thneed only supports single vector x4), where each row contains [relative_x, relative_y, speed, steer] for the next 10 timesteps. speed and steer correspond to WASD with value -1 to 1"
   ]
  },
  {
   "cell_type": "code",
   "execution_count": 3,
   "metadata": {},
   "outputs": [],
   "source": [
    "import os\n",
    "import random\n",
    "\n",
    "DATA_DIR = \"data/\"\n",
    "\n",
    "def generate_dummy_values(image_name):\n",
    "    # matrix = []\n",
    "    outputs = [] # flattened instead\n",
    "    for _ in range(10):\n",
    "        relative_x = random.uniform(1, 10)\n",
    "        relative_y = random.uniform(1, 10)\n",
    "        speed = random.uniform (-1,1) # random.choice([-1, 0, 1])\n",
    "        steer = random.uniform(-1,1)\n",
    "        # matrix.append([relative_x, relative_y, speed, steer])\n",
    "        outputs.extend([relative_x, relative_y, speed, steer])\n",
    "    return outputs\n",
    "\n",
    "def generate_labels_txt(data_dir):\n",
    "    images = sorted([img for img in os.listdir(data_dir) if img.endswith('.jpg')])\n",
    "    with open(os.path.join(data_dir, \"labels.txt\"), \"w\") as f:\n",
    "        for idx, image in enumerate(images):\n",
    "            output = generate_dummy_values(image)\n",
    "            # # print(matrix)\n",
    "            # for row in matrix:\n",
    "            #     line = \",\".join(map(str, [image] + row))\n",
    "            #     f.write(line + \"\\n\")\n",
    "            f.write(\",\".join(map(str, [image] + output)) + \"\\n\")\n",
    "\n",
    "generate_labels_txt(DATA_DIR)"
   ]
  }
 ],
 "metadata": {
  "kernelspec": {
   "display_name": "your_env_name",
   "language": "python",
   "name": "your_env_name"
  },
  "language_info": {
   "codemirror_mode": {
    "name": "ipython",
    "version": 3
   },
   "file_extension": ".py",
   "mimetype": "text/x-python",
   "name": "python",
   "nbconvert_exporter": "python",
   "pygments_lexer": "ipython3",
   "version": "3.11.4"
  },
  "orig_nbformat": 4
 },
 "nbformat": 4,
 "nbformat_minor": 2
}
